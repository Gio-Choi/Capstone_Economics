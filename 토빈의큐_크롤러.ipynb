{
 "cells": [
  {
   "cell_type": "code",
   "execution_count": 4,
   "metadata": {},
   "outputs": [],
   "source": [
    "import requests\n",
    "import numpy as np\n",
    "import pandas as pd\n",
    "from bs4 import BeautifulSoup\n",
    "from selenium import webdriver"
   ]
  },
  {
   "cell_type": "code",
   "execution_count": 5,
   "metadata": {},
   "outputs": [],
   "source": [
    "URL = \"https://navercomp.wisereport.co.kr/v2/company/c1010001.aspx?cmp_cd=005930\" \n",
    "\n",
    "samsung_electronic = requests.get(URL)\n",
    "html = samsung_electronic.text\n",
    "soup = BeautifulSoup(html, 'html.parser')\n",
    "\n",
    "\n",
    "\n"
   ]
  },
  {
   "cell_type": "code",
   "execution_count": 3,
   "metadata": {
    "scrolled": true
   },
   "outputs": [
    {
     "ename": "AttributeError",
     "evalue": "'list' object has no attribute 'select'",
     "output_type": "error",
     "traceback": [
      "\u001b[1;31m---------------------------------------------------------------------------\u001b[0m",
      "\u001b[1;31mAttributeError\u001b[0m                            Traceback (most recent call last)",
      "\u001b[1;32m<ipython-input-3-775309627915>\u001b[0m in \u001b[0;36m<module>\u001b[1;34m\u001b[0m\n\u001b[0;32m      1\u001b[0m \u001b[0mfinance_html\u001b[0m \u001b[1;33m=\u001b[0m \u001b[0msoup\u001b[0m\u001b[1;33m.\u001b[0m\u001b[0mselect\u001b[0m\u001b[1;33m(\u001b[0m\u001b[1;34m'table.gHead01 all-width'\u001b[0m\u001b[1;33m)\u001b[0m\u001b[1;33m\u001b[0m\u001b[1;33m\u001b[0m\u001b[0m\n\u001b[1;32m----> 2\u001b[1;33m \u001b[0mth_data\u001b[0m \u001b[1;33m=\u001b[0m \u001b[1;33m[\u001b[0m\u001b[0mitem\u001b[0m\u001b[1;33m.\u001b[0m\u001b[0mget_text\u001b[0m\u001b[1;33m(\u001b[0m\u001b[1;33m)\u001b[0m\u001b[1;33m.\u001b[0m\u001b[0mstrip\u001b[0m\u001b[1;33m(\u001b[0m\u001b[1;33m)\u001b[0m \u001b[1;32mfor\u001b[0m \u001b[0mitem\u001b[0m \u001b[1;32min\u001b[0m \u001b[0mfinance_html\u001b[0m\u001b[1;33m.\u001b[0m\u001b[0mselect\u001b[0m\u001b[1;33m(\u001b[0m\u001b[1;34m'thead th'\u001b[0m\u001b[1;33m)\u001b[0m\u001b[1;33m]\u001b[0m\u001b[1;33m\u001b[0m\u001b[1;33m\u001b[0m\u001b[0m\n\u001b[0m",
      "\u001b[1;31mAttributeError\u001b[0m: 'list' object has no attribute 'select'"
     ]
    }
   ],
   "source": [
    "finance_html = soup.select('table.gHead01 all-width')\n",
    "th_data = [item.get_text().strip() for item in finance_html.select('thead th')]"
   ]
  },
  {
   "cell_type": "code",
   "execution_count": 106,
   "metadata": {},
   "outputs": [],
   "source": [
    "\n"
   ]
  },
  {
   "cell_type": "code",
   "execution_count": 107,
   "metadata": {},
   "outputs": [
    {
     "name": "stdout",
     "output_type": "stream",
     "text": [
      "[]\n"
     ]
    }
   ],
   "source": [
    "print(list)"
   ]
  },
  {
   "cell_type": "code",
   "execution_count": 6,
   "metadata": {},
   "outputs": [
    {
     "ename": "AttributeError",
     "evalue": "'list' object has no attribute 'select'",
     "output_type": "error",
     "traceback": [
      "\u001b[1;31m---------------------------------------------------------------------------\u001b[0m",
      "\u001b[1;31mAttributeError\u001b[0m                            Traceback (most recent call last)",
      "\u001b[1;32m<ipython-input-6-9d7d58ad6f90>\u001b[0m in \u001b[0;36m<module>\u001b[1;34m\u001b[0m\n\u001b[0;32m      1\u001b[0m \u001b[0mfinance_index\u001b[0m \u001b[1;33m=\u001b[0m \u001b[1;33m[\u001b[0m\u001b[1;34m'001040'\u001b[0m\u001b[1;33m]\u001b[0m\u001b[1;33m\u001b[0m\u001b[1;33m\u001b[0m\u001b[0m\n\u001b[1;32m----> 2\u001b[1;33m \u001b[0mfinance_data\u001b[0m \u001b[1;33m=\u001b[0m \u001b[1;33m[\u001b[0m\u001b[0mitem\u001b[0m\u001b[1;33m.\u001b[0m\u001b[0mget_text\u001b[0m\u001b[1;33m(\u001b[0m\u001b[1;33m)\u001b[0m\u001b[1;33m.\u001b[0m\u001b[0mstrip\u001b[0m\u001b[1;33m(\u001b[0m\u001b[1;33m)\u001b[0m \u001b[1;32mfor\u001b[0m \u001b[0mitem\u001b[0m \u001b[1;32min\u001b[0m \u001b[0mfinance_html\u001b[0m\u001b[1;33m.\u001b[0m\u001b[0mselect\u001b[0m\u001b[1;33m(\u001b[0m\u001b[1;34m'td'\u001b[0m\u001b[1;33m)\u001b[0m\u001b[1;33m]\u001b[0m\u001b[1;33m\u001b[0m\u001b[1;33m\u001b[0m\u001b[0m\n\u001b[0m\u001b[0;32m      3\u001b[0m \u001b[0mfinance_data\u001b[0m \u001b[1;33m=\u001b[0m \u001b[0mnp\u001b[0m\u001b[1;33m.\u001b[0m\u001b[0marray\u001b[0m\u001b[1;33m(\u001b[0m\u001b[0mfinance_data\u001b[0m\u001b[1;33m)\u001b[0m\u001b[1;33m\u001b[0m\u001b[1;33m\u001b[0m\u001b[0m\n\u001b[0;32m      4\u001b[0m \u001b[0mfinance_data\u001b[0m\u001b[1;33m.\u001b[0m\u001b[0mresize\u001b[0m\u001b[1;33m(\u001b[0m\u001b[0mlen\u001b[0m\u001b[1;33m(\u001b[0m\u001b[0mfinance_index\u001b[0m\u001b[1;33m)\u001b[0m\u001b[1;33m,\u001b[0m \u001b[1;36m4\u001b[0m\u001b[1;33m)\u001b[0m\u001b[1;33m\u001b[0m\u001b[1;33m\u001b[0m\u001b[0m\n\u001b[0;32m      5\u001b[0m \u001b[0mfinance_date\u001b[0m \u001b[1;33m=\u001b[0m \u001b[0mannual_date\u001b[0m\u001b[1;33m\u001b[0m\u001b[1;33m\u001b[0m\u001b[0m\n",
      "\u001b[1;31mAttributeError\u001b[0m: 'list' object has no attribute 'select'"
     ]
    }
   ],
   "source": [
    "finance_index = ['001040'] \n",
    "finance_data = [item.get_text().strip() for item in finance_html.select('td')]\n",
    "finance_data = np.array(finance_data)\n",
    "finance_data.resize(len(finance_index), 4)\n",
    "finance_date = annual_date\n",
    "df1 = pd.DataFrame(data=finance_data[0:,0:], index=finance_index, columns=finance_date)"
   ]
  },
  {
   "cell_type": "code",
   "execution_count": null,
   "metadata": {},
   "outputs": [],
   "source": [
    "#빈 데이터 프레임 하나 만들고 for문으로 하나씩 행추가하기 !!\n",
    "##https://antilibrary.org/2483 \n",
    "## 위에꺼 따라 일단 첫번째 code는 for문에서 빼서 데이터프레임 하나 만든 후에(전역변수로), concat()함수로 하나씩 채워나가자 !\n",
    "for code in codes :\n",
    "    \n",
    "    if code == '002840':\n",
    "        URL = \"https://finance.naver.com/item/main.nhn?code=007120\"\n",
    "    \n",
    "        samsung_electronic = requests.get(URL)\n",
    "        html = samsung_electronic.text        \n",
    "        soup = BeautifulSoup(html, 'html.parser')\n",
    "        finance_html = soup.select('div.section.cop_analysis div.sub_section')[0]\n",
    "        th_data = [item.get_text().strip() for item in finance_html.select('thead th')]\n",
    "        annual_date = th_data[3:7]   \n",
    "        finance_index = ['007120'] \n",
    "        finance_data = [item.get_text().strip() for item in finance_html.select('td')]\n",
    "        finance_data = np.array(finance_data)\n",
    "        finance_data.resize(len(finance_index), 4)\n",
    "        finance_date = annual_date\n",
    "        df1 = pd.DataFrame(data=finance_data[0:,0:], index=finance_index, columns=finance_date)\n",
    "\n",
    "        URL = \"https://finance.naver.com/item/main.nhn?code=\" + code\n",
    "    \n",
    "        samsung_electronic = requests.get(URL)\n",
    "        html = samsung_electronic.text        \n",
    "        soup = BeautifulSoup(html, 'html.parser')\n",
    "        finance_html = soup.select('div.section.cop_analysis div.sub_section')[0]\n",
    "        th_data = [item.get_text().strip() for item in finance_html.select('thead th')]\n",
    "        annual_date = th_data[3:7]   \n",
    "        finance_index = [code] \n",
    "        finance_data = [item.get_text().strip() for item in finance_html.select('td')]\n",
    "        finance_data = np.array(finance_data)\n",
    "        finance_data.resize(len(finance_index), 4)\n",
    "        finance_date = annual_date\n",
    "        df2 = pd.DataFrame(data=finance_data[0:,0:], index=finance_index, columns=finance_date)\n",
    "    \n",
    "        df1 = pd.concat([df1,df2])\n",
    "    \n",
    "    \n",
    "    else :\n",
    "        URL = \"https://finance.naver.com/item/main.nhn?code=\" + code\n",
    "    \n",
    "        samsung_electronic = requests.get(URL)\n",
    "        html = samsung_electronic.text        \n",
    "        soup = BeautifulSoup(html, 'html.parser')\n",
    "        finance_html = soup.select('div.section.cop_analysis div.sub_section')[0]\n",
    "        th_data = [item.get_text().strip() for item in finance_html.select('thead th')]\n",
    "        annual_date = th_data[3:7]   \n",
    "        finance_index = [code] \n",
    "        finance_data = [item.get_text().strip() for item in finance_html.select('td')]\n",
    "        finance_data = np.array(finance_data)\n",
    "        finance_data.resize(len(finance_index), 4)\n",
    "        finance_date = annual_date\n",
    "        df2 = pd.DataFrame(data=finance_data[0:,0:], index=finance_index, columns=finance_date)\n",
    "    \n",
    "        df1 = pd.concat([df1,df2])\n",
    "    \n",
    "        df1.to_excel('test.xlsx')\n",
    "        \n",
    "\n"
   ]
  }
 ],
 "metadata": {
  "kernelspec": {
   "display_name": "Python 3",
   "language": "python",
   "name": "python3"
  },
  "language_info": {
   "codemirror_mode": {
    "name": "ipython",
    "version": 3
   },
   "file_extension": ".py",
   "mimetype": "text/x-python",
   "name": "python",
   "nbconvert_exporter": "python",
   "pygments_lexer": "ipython3",
   "version": "3.8.5"
  }
 },
 "nbformat": 4,
 "nbformat_minor": 4
}
