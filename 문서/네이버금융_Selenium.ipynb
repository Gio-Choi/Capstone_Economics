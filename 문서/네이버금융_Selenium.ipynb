{
 "cells": [
  {
   "cell_type": "markdown",
   "metadata": {},
   "source": [
    "## 네이버금융_재무제표_크롤러\n",
    "\n",
    "'종목코드'를 입력하면 셀레늄으로 재무제표를 크롤링해오는 프로그램\n",
    "\n",
    "10개 기업만 테스트로 시도해 본 결과 정상 작동함. "
   ]
  },
  {
   "cell_type": "markdown",
   "metadata": {},
   "source": [
    "## 조금 손본 후 '네이버금융_최종'으로 따로 저장함. \n",
    "### 수정내역 \n",
    "#### 1)1000개 이상의 기업을 크롤링하므로 창을 하나하나 닫는 코드 추가\n",
    "#### 2) 상장폐지된 기업, 인수 합병된 기업 존재하기에 try, except로 예외처리함. "
   ]
  },
  {
   "cell_type": "code",
   "execution_count": 1,
   "metadata": {
    "lines_to_next_cell": 2
   },
   "outputs": [],
   "source": [
    "import requests\n",
    "from bs4 import BeautifulSoup \n",
    "from datetime import datetime                            \n",
    "import pandas as pd \n",
    "import time \n",
    "import urllib.request \n",
    "from selenium.webdriver import Chrome\n",
    "import json \n",
    "import re     \n",
    "from selenium.webdriver.chrome.options import Options\n",
    "from selenium.webdriver.common.keys import Keys\n",
    "import datetime as dt\n",
    "import time"
   ]
  },
  {
   "cell_type": "code",
   "execution_count": 2,
   "metadata": {},
   "outputs": [],
   "source": [
    "before_list = '''\n",
    "000040\n",
    "000080\n",
    "000100\n",
    "000000\n",
    "000120\n",
    "\n",
    "'''"
   ]
  },
  {
   "cell_type": "code",
   "execution_count": 3,
   "metadata": {},
   "outputs": [],
   "source": [
    "company_list = before_list.split()"
   ]
  },
  {
   "cell_type": "code",
   "execution_count": 4,
   "metadata": {},
   "outputs": [
    {
     "data": {
      "text/plain": [
       "['000040', '000080', '000100', '000000', '000120']"
      ]
     },
     "execution_count": 4,
     "metadata": {},
     "output_type": "execute_result"
    }
   ],
   "source": [
    "company_list"
   ]
  },
  {
   "cell_type": "markdown",
   "metadata": {},
   "source": [
    "## 기업의 '종목코드' 리스트화 해서 넣기\n",
    "\n",
    "밑의 리스트는 예시"
   ]
  },
  {
   "cell_type": "markdown",
   "metadata": {},
   "source": [
    "## 현재 궁금증, 고민거리\n",
    "1)time,sleep은 몇 초 정도로 할지? 코스피, 코스닥 상장사 약 2000개 전부를 크롤링한다 생각했을 때 각 time.sleep에서 일초씩 차이가 나는 것은 총 소요시간에서 큰 차이로 이어짐. \n",
    "\n",
    "2)비정형 패널데이터 선형회귀 분석은 책을 한두권 사서 더 공부해보고 분석 진행. 이론이 흔들리면 안된다. \n",
    "\n",
    "3)왜 굳이 비정형 패널데이터 분석을 하는지? 이에 대한 소명 필요. \n",
    "\n",
    "4)유니코드 공백 지우기..?잘 모르겠다.. \n",
    "\n"
   ]
  },
  {
   "cell_type": "code",
   "execution_count": 5,
   "metadata": {},
   "outputs": [],
   "source": [
    "def stock_crawler(code):\n",
    "    \n",
    "    browser  = Chrome()\n",
    "    browser.maximize_window()\n",
    "    \n",
    "    name = code\n",
    "    base_url = 'https://finance.naver.com/item/coinfo.nhn?code='+ name + '&target=finsum_more'\n",
    "    \n",
    "    \n",
    "    browser.get(base_url)\n",
    "    time.sleep(1.5)\n",
    "   \n",
    "    browser.switch_to_frame(browser.find_element_by_id('coinfo_cp'))\n",
    "    time.sleep(1.5)\n",
    "    \n",
    "    browser.find_elements_by_xpath('//*[@class=\"schtab\"][1]/tbody/tr/td[3]')[0].click()\n",
    "    time.sleep(1.5)\n",
    "\n",
    "    html0 = browser.page_source\n",
    "    html1 = BeautifulSoup(html0,'html.parser')\n",
    "    \n",
    "    #기업명\n",
    "    title0 = html1.find('head').find('title').text\n",
    "    print(title0.split('-')[-1])\n",
    "    \n",
    "    html22 = html1.find('table',{'class':'gHead01 all-width','summary':'주요재무정보를 제공합니다.'})\n",
    "    \n",
    "    #date 들고오기\n",
    "    thead0 = html22.find('thead')\n",
    "    tr0 = thead0.find_all('tr')[1]\n",
    "    th0 = tr0.find_all('th')\n",
    "    \n",
    "    date = []\n",
    "    for i in range(len(th0)):\n",
    "        date.append(''.join(re.findall('[0-9/]',th0[i].text)))\n",
    "    \n",
    "    #columns 들고오기\n",
    "    tbody0 = html22.find('tbody')\n",
    "    tr0 = tbody0.find_all('tr')\n",
    "    \n",
    "    col = []\n",
    "    for i in range(len(tr0)):\n",
    "\n",
    "        if '\\xa0' in tr0[i].find('th').text: #유니코드의 공백을 없애주는 방법.\n",
    "            tx = re.sub('\\xa0','',tr0[i].find('th').text)\n",
    "        else:\n",
    "            tx = tr0[i].find('th').text\n",
    "\n",
    "        col.append(tx)\n",
    "    \n",
    "    #main text scrapy\n",
    "    td = []\n",
    "    for i in range(len(tr0)):\n",
    "        td0 = tr0[i].find_all('td')\n",
    "        td1 = []\n",
    "        for j in range(len(td0)):\n",
    "            if td0[j].text == '':\n",
    "                td1.append('0')\n",
    "            else:\n",
    "                td1.append(td0[j].text)\n",
    "\n",
    "        td.append(td1)\n",
    "    \n",
    "    td2 = list(map(list,zip(*td)))\n",
    "    \n",
    "    ###\n",
    "    \n",
    "    multiple_index = []  \n",
    " \n",
    "    for i in range(len(date)):\n",
    "      \n",
    "        multiple_index.append(code)\n",
    "    \n",
    "    \n",
    "    \n",
    "    \n",
    "    ####\n",
    "    df = pd.DataFrame(td2,columns = col,index = [multiple_index, date])\n",
    "    \n",
    "    browser.close()\n",
    "    \n",
    "    \n",
    "    ###일단 어떤게 필요할지 몰라 다 들고왔지만 5개년, 즉 5행까지만 쓰는 걸로 잠정적 결론.\n",
    "    df.drop(df.index[5:], inplace=True)\n",
    "    time.sleep(1)\n",
    "    \n",
    "    \n",
    "    return df"
   ]
  },
  {
   "cell_type": "code",
   "execution_count": 6,
   "metadata": {},
   "outputs": [
    {
     "name": "stderr",
     "output_type": "stream",
     "text": [
      "<ipython-input-5-6b58ed1c41a0>:13: DeprecationWarning: use driver.switch_to.frame instead\n",
      "  browser.switch_to_frame(browser.find_element_by_id('coinfo_cp'))\n"
     ]
    },
    {
     "name": "stdout",
     "output_type": "stream",
     "text": [
      " 기업개요(동화약품)\n"
     ]
    }
   ],
   "source": [
    "df_first_row = stock_crawler('000020')"
   ]
  },
  {
   "cell_type": "code",
   "execution_count": 7,
   "metadata": {},
   "outputs": [
    {
     "data": {
      "text/html": [
       "<div>\n",
       "<style scoped>\n",
       "    .dataframe tbody tr th:only-of-type {\n",
       "        vertical-align: middle;\n",
       "    }\n",
       "\n",
       "    .dataframe tbody tr th {\n",
       "        vertical-align: top;\n",
       "    }\n",
       "\n",
       "    .dataframe thead th {\n",
       "        text-align: right;\n",
       "    }\n",
       "</style>\n",
       "<table border=\"1\" class=\"dataframe\">\n",
       "  <thead>\n",
       "    <tr style=\"text-align: right;\">\n",
       "      <th></th>\n",
       "      <th></th>\n",
       "      <th>매출액</th>\n",
       "      <th>영업이익</th>\n",
       "      <th>영업이익(발표기준)</th>\n",
       "      <th>세전계속사업이익</th>\n",
       "      <th>당기순이익</th>\n",
       "      <th>당기순이익(지배)</th>\n",
       "      <th>당기순이익(비지배)</th>\n",
       "      <th>자산총계</th>\n",
       "      <th>부채총계</th>\n",
       "      <th>자본총계</th>\n",
       "      <th>...</th>\n",
       "      <th>부채비율</th>\n",
       "      <th>자본유보율</th>\n",
       "      <th>EPS(원)</th>\n",
       "      <th>PER(배)</th>\n",
       "      <th>BPS(원)</th>\n",
       "      <th>PBR(배)</th>\n",
       "      <th>현금DPS(원)</th>\n",
       "      <th>현금배당수익률</th>\n",
       "      <th>현금배당성향(%)</th>\n",
       "      <th>발행주식수(보통주)</th>\n",
       "    </tr>\n",
       "  </thead>\n",
       "  <tbody>\n",
       "    <tr>\n",
       "      <th rowspan=\"5\" valign=\"top\">000020</th>\n",
       "      <th>2016/12</th>\n",
       "      <td>2,375</td>\n",
       "      <td>113</td>\n",
       "      <td>113</td>\n",
       "      <td>357</td>\n",
       "      <td>263</td>\n",
       "      <td>263</td>\n",
       "      <td>0</td>\n",
       "      <td>3,246</td>\n",
       "      <td>717</td>\n",
       "      <td>2,529</td>\n",
       "      <td>...</td>\n",
       "      <td>28.34</td>\n",
       "      <td>802.68</td>\n",
       "      <td>940</td>\n",
       "      <td>8.64</td>\n",
       "      <td>9,143</td>\n",
       "      <td>0.89</td>\n",
       "      <td>110</td>\n",
       "      <td>1.35</td>\n",
       "      <td>11.59</td>\n",
       "      <td>27,931,470</td>\n",
       "    </tr>\n",
       "    <tr>\n",
       "      <th>2017/12</th>\n",
       "      <td>2,589</td>\n",
       "      <td>110</td>\n",
       "      <td>110</td>\n",
       "      <td>652</td>\n",
       "      <td>470</td>\n",
       "      <td>470</td>\n",
       "      <td>0</td>\n",
       "      <td>3,672</td>\n",
       "      <td>703</td>\n",
       "      <td>2,969</td>\n",
       "      <td>...</td>\n",
       "      <td>23.67</td>\n",
       "      <td>955.79</td>\n",
       "      <td>1,683</td>\n",
       "      <td>5.79</td>\n",
       "      <td>10,756</td>\n",
       "      <td>0.91</td>\n",
       "      <td>150</td>\n",
       "      <td>1.54</td>\n",
       "      <td>8.81</td>\n",
       "      <td>27,931,470</td>\n",
       "    </tr>\n",
       "    <tr>\n",
       "      <th>2018/12</th>\n",
       "      <td>3,066</td>\n",
       "      <td>112</td>\n",
       "      <td>112</td>\n",
       "      <td>145</td>\n",
       "      <td>101</td>\n",
       "      <td>101</td>\n",
       "      <td>0</td>\n",
       "      <td>3,706</td>\n",
       "      <td>732</td>\n",
       "      <td>2,974</td>\n",
       "      <td>...</td>\n",
       "      <td>24.61</td>\n",
       "      <td>967.43</td>\n",
       "      <td>360</td>\n",
       "      <td>25.24</td>\n",
       "      <td>10,761</td>\n",
       "      <td>0.85</td>\n",
       "      <td>120</td>\n",
       "      <td>1.32</td>\n",
       "      <td>32.90</td>\n",
       "      <td>27,931,470</td>\n",
       "    </tr>\n",
       "    <tr>\n",
       "      <th>2019/12</th>\n",
       "      <td>3,072</td>\n",
       "      <td>96</td>\n",
       "      <td>96</td>\n",
       "      <td>162</td>\n",
       "      <td>91</td>\n",
       "      <td>91</td>\n",
       "      <td>0</td>\n",
       "      <td>3,764</td>\n",
       "      <td>766</td>\n",
       "      <td>2,997</td>\n",
       "      <td>...</td>\n",
       "      <td>25.57</td>\n",
       "      <td>976.07</td>\n",
       "      <td>326</td>\n",
       "      <td>25.46</td>\n",
       "      <td>10,856</td>\n",
       "      <td>0.77</td>\n",
       "      <td>120</td>\n",
       "      <td>1.44</td>\n",
       "      <td>36.34</td>\n",
       "      <td>27,931,470</td>\n",
       "    </tr>\n",
       "    <tr>\n",
       "      <th>2020/12</th>\n",
       "      <td>2,721</td>\n",
       "      <td>232</td>\n",
       "      <td>232</td>\n",
       "      <td>336</td>\n",
       "      <td>287</td>\n",
       "      <td>285</td>\n",
       "      <td>2</td>\n",
       "      <td>4,338</td>\n",
       "      <td>911</td>\n",
       "      <td>3,427</td>\n",
       "      <td>...</td>\n",
       "      <td>26.59</td>\n",
       "      <td>1,064.44</td>\n",
       "      <td>1,021</td>\n",
       "      <td>19.25</td>\n",
       "      <td>11,999</td>\n",
       "      <td>1.64</td>\n",
       "      <td>180</td>\n",
       "      <td>0.92</td>\n",
       "      <td>17.43</td>\n",
       "      <td>0</td>\n",
       "    </tr>\n",
       "  </tbody>\n",
       "</table>\n",
       "<p>5 rows × 33 columns</p>\n",
       "</div>"
      ],
      "text/plain": [
       "                  매출액 영업이익 영업이익(발표기준) 세전계속사업이익 당기순이익 당기순이익(지배) 당기순이익(비지배)  \\\n",
       "000020 2016/12  2,375  113        113      357   263       263          0   \n",
       "       2017/12  2,589  110        110      652   470       470          0   \n",
       "       2018/12  3,066  112        112      145   101       101          0   \n",
       "       2019/12  3,072   96         96      162    91        91          0   \n",
       "       2020/12  2,721  232        232      336   287       285          2   \n",
       "\n",
       "                 자산총계 부채총계   자본총계  ...   부채비율     자본유보율 EPS(원) PER(배)  BPS(원)  \\\n",
       "000020 2016/12  3,246  717  2,529  ...  28.34    802.68    940   8.64   9,143   \n",
       "       2017/12  3,672  703  2,969  ...  23.67    955.79  1,683   5.79  10,756   \n",
       "       2018/12  3,706  732  2,974  ...  24.61    967.43    360  25.24  10,761   \n",
       "       2019/12  3,764  766  2,997  ...  25.57    976.07    326  25.46  10,856   \n",
       "       2020/12  4,338  911  3,427  ...  26.59  1,064.44  1,021  19.25  11,999   \n",
       "\n",
       "               PBR(배) 현금DPS(원) 현금배당수익률 현금배당성향(%)  발행주식수(보통주)  \n",
       "000020 2016/12   0.89      110    1.35     11.59  27,931,470  \n",
       "       2017/12   0.91      150    1.54      8.81  27,931,470  \n",
       "       2018/12   0.85      120    1.32     32.90  27,931,470  \n",
       "       2019/12   0.77      120    1.44     36.34  27,931,470  \n",
       "       2020/12   1.64      180    0.92     17.43           0  \n",
       "\n",
       "[5 rows x 33 columns]"
      ]
     },
     "execution_count": 7,
     "metadata": {},
     "output_type": "execute_result"
    }
   ],
   "source": [
    "df_first_row"
   ]
  },
  {
   "cell_type": "markdown",
   "metadata": {},
   "source": [
    "# for 문으로 모든 기업 크롤링 진행\n"
   ]
  },
  {
   "cell_type": "code",
   "execution_count": 8,
   "metadata": {
    "lines_to_end_of_cell_marker": 2,
    "lines_to_next_cell": 2
   },
   "outputs": [
    {
     "name": "stderr",
     "output_type": "stream",
     "text": [
      "<ipython-input-5-6b58ed1c41a0>:13: DeprecationWarning: use driver.switch_to.frame instead\n",
      "  browser.switch_to_frame(browser.find_element_by_id('coinfo_cp'))\n"
     ]
    },
    {
     "name": "stdout",
     "output_type": "stream",
     "text": [
      " 기업개요(KR모터스)\n",
      " 기업개요(하이트진로)\n",
      " 기업개요(유한양행)\n"
     ]
    },
    {
     "ename": "NameError",
     "evalue": "name 'browser' is not defined",
     "output_type": "error",
     "traceback": [
      "\u001b[1;31m---------------------------------------------------------------------------\u001b[0m",
      "\u001b[1;31mNoSuchElementException\u001b[0m                    Traceback (most recent call last)",
      "\u001b[1;32m<ipython-input-8-7a458d3e07d8>\u001b[0m in \u001b[0;36m<module>\u001b[1;34m\u001b[0m\n\u001b[0;32m      3\u001b[0m     \u001b[1;32mtry\u001b[0m \u001b[1;33m:\u001b[0m\u001b[1;33m\u001b[0m\u001b[1;33m\u001b[0m\u001b[0m\n\u001b[1;32m----> 4\u001b[1;33m         \u001b[0mdf_new\u001b[0m \u001b[1;33m=\u001b[0m \u001b[0mstock_crawler\u001b[0m\u001b[1;33m(\u001b[0m\u001b[0mi\u001b[0m\u001b[1;33m)\u001b[0m\u001b[1;33m\u001b[0m\u001b[1;33m\u001b[0m\u001b[0m\n\u001b[0m\u001b[0;32m      5\u001b[0m         \u001b[0mdf_first_row\u001b[0m \u001b[1;33m=\u001b[0m \u001b[0mpd\u001b[0m\u001b[1;33m.\u001b[0m\u001b[0mconcat\u001b[0m\u001b[1;33m(\u001b[0m\u001b[1;33m[\u001b[0m\u001b[0mdf_first_row\u001b[0m\u001b[1;33m,\u001b[0m \u001b[0mdf_new\u001b[0m\u001b[1;33m]\u001b[0m\u001b[1;33m)\u001b[0m\u001b[1;33m\u001b[0m\u001b[1;33m\u001b[0m\u001b[0m\n",
      "\u001b[1;32m<ipython-input-5-6b58ed1c41a0>\u001b[0m in \u001b[0;36mstock_crawler\u001b[1;34m(code)\u001b[0m\n\u001b[0;32m     12\u001b[0m \u001b[1;33m\u001b[0m\u001b[0m\n\u001b[1;32m---> 13\u001b[1;33m     \u001b[0mbrowser\u001b[0m\u001b[1;33m.\u001b[0m\u001b[0mswitch_to_frame\u001b[0m\u001b[1;33m(\u001b[0m\u001b[0mbrowser\u001b[0m\u001b[1;33m.\u001b[0m\u001b[0mfind_element_by_id\u001b[0m\u001b[1;33m(\u001b[0m\u001b[1;34m'coinfo_cp'\u001b[0m\u001b[1;33m)\u001b[0m\u001b[1;33m)\u001b[0m\u001b[1;33m\u001b[0m\u001b[1;33m\u001b[0m\u001b[0m\n\u001b[0m\u001b[0;32m     14\u001b[0m     \u001b[0mtime\u001b[0m\u001b[1;33m.\u001b[0m\u001b[0msleep\u001b[0m\u001b[1;33m(\u001b[0m\u001b[1;36m1.5\u001b[0m\u001b[1;33m)\u001b[0m\u001b[1;33m\u001b[0m\u001b[1;33m\u001b[0m\u001b[0m\n",
      "\u001b[1;32m~\\anaconda3\\lib\\site-packages\\selenium\\webdriver\\remote\\webdriver.py\u001b[0m in \u001b[0;36mfind_element_by_id\u001b[1;34m(self, id_)\u001b[0m\n\u001b[0;32m    359\u001b[0m         \"\"\"\n\u001b[1;32m--> 360\u001b[1;33m         \u001b[1;32mreturn\u001b[0m \u001b[0mself\u001b[0m\u001b[1;33m.\u001b[0m\u001b[0mfind_element\u001b[0m\u001b[1;33m(\u001b[0m\u001b[0mby\u001b[0m\u001b[1;33m=\u001b[0m\u001b[0mBy\u001b[0m\u001b[1;33m.\u001b[0m\u001b[0mID\u001b[0m\u001b[1;33m,\u001b[0m \u001b[0mvalue\u001b[0m\u001b[1;33m=\u001b[0m\u001b[0mid_\u001b[0m\u001b[1;33m)\u001b[0m\u001b[1;33m\u001b[0m\u001b[1;33m\u001b[0m\u001b[0m\n\u001b[0m\u001b[0;32m    361\u001b[0m \u001b[1;33m\u001b[0m\u001b[0m\n",
      "\u001b[1;32m~\\anaconda3\\lib\\site-packages\\selenium\\webdriver\\remote\\webdriver.py\u001b[0m in \u001b[0;36mfind_element\u001b[1;34m(self, by, value)\u001b[0m\n\u001b[0;32m    975\u001b[0m                 \u001b[0mvalue\u001b[0m \u001b[1;33m=\u001b[0m \u001b[1;34m'[name=\"%s\"]'\u001b[0m \u001b[1;33m%\u001b[0m \u001b[0mvalue\u001b[0m\u001b[1;33m\u001b[0m\u001b[1;33m\u001b[0m\u001b[0m\n\u001b[1;32m--> 976\u001b[1;33m         return self.execute(Command.FIND_ELEMENT, {\n\u001b[0m\u001b[0;32m    977\u001b[0m             \u001b[1;34m'using'\u001b[0m\u001b[1;33m:\u001b[0m \u001b[0mby\u001b[0m\u001b[1;33m,\u001b[0m\u001b[1;33m\u001b[0m\u001b[1;33m\u001b[0m\u001b[0m\n",
      "\u001b[1;32m~\\anaconda3\\lib\\site-packages\\selenium\\webdriver\\remote\\webdriver.py\u001b[0m in \u001b[0;36mexecute\u001b[1;34m(self, driver_command, params)\u001b[0m\n\u001b[0;32m    320\u001b[0m         \u001b[1;32mif\u001b[0m \u001b[0mresponse\u001b[0m\u001b[1;33m:\u001b[0m\u001b[1;33m\u001b[0m\u001b[1;33m\u001b[0m\u001b[0m\n\u001b[1;32m--> 321\u001b[1;33m             \u001b[0mself\u001b[0m\u001b[1;33m.\u001b[0m\u001b[0merror_handler\u001b[0m\u001b[1;33m.\u001b[0m\u001b[0mcheck_response\u001b[0m\u001b[1;33m(\u001b[0m\u001b[0mresponse\u001b[0m\u001b[1;33m)\u001b[0m\u001b[1;33m\u001b[0m\u001b[1;33m\u001b[0m\u001b[0m\n\u001b[0m\u001b[0;32m    322\u001b[0m             response['value'] = self._unwrap_value(\n",
      "\u001b[1;32m~\\anaconda3\\lib\\site-packages\\selenium\\webdriver\\remote\\errorhandler.py\u001b[0m in \u001b[0;36mcheck_response\u001b[1;34m(self, response)\u001b[0m\n\u001b[0;32m    241\u001b[0m             \u001b[1;32mraise\u001b[0m \u001b[0mexception_class\u001b[0m\u001b[1;33m(\u001b[0m\u001b[0mmessage\u001b[0m\u001b[1;33m,\u001b[0m \u001b[0mscreen\u001b[0m\u001b[1;33m,\u001b[0m \u001b[0mstacktrace\u001b[0m\u001b[1;33m,\u001b[0m \u001b[0malert_text\u001b[0m\u001b[1;33m)\u001b[0m\u001b[1;33m\u001b[0m\u001b[1;33m\u001b[0m\u001b[0m\n\u001b[1;32m--> 242\u001b[1;33m         \u001b[1;32mraise\u001b[0m \u001b[0mexception_class\u001b[0m\u001b[1;33m(\u001b[0m\u001b[0mmessage\u001b[0m\u001b[1;33m,\u001b[0m \u001b[0mscreen\u001b[0m\u001b[1;33m,\u001b[0m \u001b[0mstacktrace\u001b[0m\u001b[1;33m)\u001b[0m\u001b[1;33m\u001b[0m\u001b[1;33m\u001b[0m\u001b[0m\n\u001b[0m\u001b[0;32m    243\u001b[0m \u001b[1;33m\u001b[0m\u001b[0m\n",
      "\u001b[1;31mNoSuchElementException\u001b[0m: Message: no such element: Unable to locate element: {\"method\":\"css selector\",\"selector\":\"[id=\"coinfo_cp\"]\"}\n  (Session info: chrome=89.0.4389.128)\n",
      "\nDuring handling of the above exception, another exception occurred:\n",
      "\u001b[1;31mNameError\u001b[0m                                 Traceback (most recent call last)",
      "\u001b[1;32m<ipython-input-8-7a458d3e07d8>\u001b[0m in \u001b[0;36m<module>\u001b[1;34m\u001b[0m\n\u001b[0;32m      6\u001b[0m \u001b[1;33m\u001b[0m\u001b[0m\n\u001b[0;32m      7\u001b[0m     \u001b[1;32mexcept\u001b[0m\u001b[1;33m:\u001b[0m\u001b[1;33m\u001b[0m\u001b[1;33m\u001b[0m\u001b[0m\n\u001b[1;32m----> 8\u001b[1;33m         \u001b[0mbrowser\u001b[0m\u001b[1;33m.\u001b[0m\u001b[0mclose\u001b[0m\u001b[1;33m(\u001b[0m\u001b[1;33m)\u001b[0m\u001b[1;33m\u001b[0m\u001b[1;33m\u001b[0m\u001b[0m\n\u001b[0m\u001b[0;32m      9\u001b[0m         \u001b[0mtime\u001b[0m\u001b[1;33m.\u001b[0m\u001b[0msleep\u001b[0m\u001b[1;33m(\u001b[0m\u001b[1;36m1\u001b[0m\u001b[1;33m)\u001b[0m\u001b[1;33m\u001b[0m\u001b[1;33m\u001b[0m\u001b[0m\n\u001b[0;32m     10\u001b[0m         \u001b[1;32mcontinue\u001b[0m\u001b[1;33m\u001b[0m\u001b[1;33m\u001b[0m\u001b[0m\n",
      "\u001b[1;31mNameError\u001b[0m: name 'browser' is not defined"
     ]
    }
   ],
   "source": [
    "for i in company_list :\n",
    "    \n",
    "    try : \n",
    "        df_new = stock_crawler(i)\n",
    "        df_first_row = pd.concat([df_first_row, df_new])\n",
    "        \n",
    "    except:\n",
    "        \n",
    "        time.sleep(1)\n",
    "        continue"
   ]
  },
  {
   "cell_type": "code",
   "execution_count": null,
   "metadata": {},
   "outputs": [],
   "source": [
    "#엑셀로 변환\n",
    "df_all = df_first_row\n",
    "df_all.to_excel('tobinq.xlsx')"
   ]
  },
  {
   "cell_type": "markdown",
   "metadata": {},
   "source": [
    "# 상의할 점\n",
    "\n",
    "1. 기업들을 어떤 표준에 의거해서 산업 별로 분류할지? \n",
    "2. 캡스톤 디자인 예산 신청해서 그 돈으로 선형회귀 관련 책을 구매하는 건 가능할지?"
   ]
  },
  {
   "cell_type": "code",
   "execution_count": null,
   "metadata": {},
   "outputs": [],
   "source": []
  }
 ],
 "metadata": {
  "jupytext": {
   "encoding": "# -*- coding: utf-8 -*-",
   "formats": "ipynb,py:light"
  },
  "kernelspec": {
   "display_name": "Python 3",
   "language": "python",
   "name": "python3"
  },
  "language_info": {
   "codemirror_mode": {
    "name": "ipython",
    "version": 3
   },
   "file_extension": ".py",
   "mimetype": "text/x-python",
   "name": "python",
   "nbconvert_exporter": "python",
   "pygments_lexer": "ipython3",
   "version": "3.8.5"
  }
 },
 "nbformat": 4,
 "nbformat_minor": 4
}
