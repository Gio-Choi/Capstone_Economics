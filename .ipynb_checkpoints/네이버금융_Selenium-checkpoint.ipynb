{
 "cells": [
  {
   "cell_type": "markdown",
   "metadata": {},
   "source": [
    "## 네이버금융_재무제표_크롤러\n",
    "\n",
    "'종목코드'를 입력하면 셀레늄으로 재무제표를 크롤링해오는 프로그램\n",
    "\n",
    "10개 기업만 테스트로 시도해 본 결과 정상 작동함. "
   ]
  },
  {
   "cell_type": "code",
   "execution_count": null,
   "metadata": {
    "lines_to_next_cell": 2
   },
   "outputs": [],
   "source": [
    "import requests\n",
    "from bs4 import BeautifulSoup \n",
    "from datetime import datetime                            \n",
    "import pandas as pd \n",
    "import time \n",
    "import urllib.request \n",
    "from selenium.webdriver import Chrome\n",
    "import json \n",
    "import re     \n",
    "from selenium.webdriver.chrome.options import Options\n",
    "from selenium.webdriver.common.keys import Keys\n",
    "import datetime as dt\n",
    "import time"
   ]
  },
  {
   "cell_type": "markdown",
   "metadata": {},
   "source": [
    "## 기업의 '종목코드' 리스트화 해서 넣기\n",
    "\n",
    "밑의 리스트는 예시"
   ]
  },
  {
   "cell_type": "code",
   "execution_count": null,
   "metadata": {},
   "outputs": [],
   "source": [
    "company_list = ['002840', '107590', '134380', '003650', '084990', '052260', '003610', '001340', '014580', '035150',]"
   ]
  },
  {
   "cell_type": "markdown",
   "metadata": {},
   "source": [
    "## 현재 궁금증, 고민거리\n",
    "1)time,sleep은 몇 초 정도로 할지? 코스피, 코스닥 상장사 약 2000개 전부를 크롤링한다 생각했을 때 각 time.sleep에서 일초씩 차이가 나는 것은 총 소요시간에서 큰 차이로 이어짐. \n",
    "\n",
    "2)비정형 패널데이터 선형회귀 분석은 책을 한두권 사서 더 공부해보고 분석 진행. 이론이 흔들리면 안된다. \n",
    "\n",
    "3)왜 굳이 비정형 패널데이터 분석을 하는지? 이에 대한 소명 필요. \n",
    "\n",
    "4)유니코드 공백 지우기..?잘 모르겠다.. \n",
    "\n"
   ]
  },
  {
   "cell_type": "code",
   "execution_count": null,
   "metadata": {},
   "outputs": [],
   "source": [
    "def stock_crawler(code):\n",
    "    \n",
    "    browser  = Chrome()\n",
    "    browser.maximize_window()\n",
    "    \n",
    "    name = code\n",
    "    base_url = 'https://finance.naver.com/item/coinfo.nhn?code='+ name + '&target=finsum_more'\n",
    "    \n",
    "    \n",
    "    browser.get(base_url)\n",
    "    time.sleep(2)\n",
    "   \n",
    "    browser.switch_to_frame(browser.find_element_by_id('coinfo_cp'))\n",
    "    time.sleep(2)\n",
    "    \n",
    "    browser.find_elements_by_xpath('//*[@class=\"schtab\"][1]/tbody/tr/td[3]')[0].click()\n",
    "    time.sleep(2)\n",
    "\n",
    "    html0 = browser.page_source\n",
    "    html1 = BeautifulSoup(html0,'html.parser')\n",
    "    \n",
    "    #기업명\n",
    "    title0 = html1.find('head').find('title').text\n",
    "    print(title0.split('-')[-1])\n",
    "    \n",
    "    html22 = html1.find('table',{'class':'gHead01 all-width','summary':'주요재무정보를 제공합니다.'})\n",
    "    \n",
    "    #date 들고오기\n",
    "    thead0 = html22.find('thead')\n",
    "    tr0 = thead0.find_all('tr')[1]\n",
    "    th0 = tr0.find_all('th')\n",
    "    \n",
    "    date = []\n",
    "    for i in range(len(th0)):\n",
    "        date.append(''.join(re.findall('[0-9/]',th0[i].text)))\n",
    "    \n",
    "    #columns 들고오기\n",
    "    tbody0 = html22.find('tbody')\n",
    "    tr0 = tbody0.find_all('tr')\n",
    "    \n",
    "    col = []\n",
    "    for i in range(len(tr0)):\n",
    "\n",
    "        if '\\xa0' in tr0[i].find('th').text: #유니코드의 공백을 없애주는 방법.\n",
    "            tx = re.sub('\\xa0','',tr0[i].find('th').text)\n",
    "        else:\n",
    "            tx = tr0[i].find('th').text\n",
    "\n",
    "        col.append(tx)\n",
    "    \n",
    "    #main text scrapy\n",
    "    td = []\n",
    "    for i in range(len(tr0)):\n",
    "        td0 = tr0[i].find_all('td')\n",
    "        td1 = []\n",
    "        for j in range(len(td0)):\n",
    "            if td0[j].text == '':\n",
    "                td1.append('0')\n",
    "            else:\n",
    "                td1.append(td0[j].text)\n",
    "\n",
    "        td.append(td1)\n",
    "    \n",
    "    td2 = list(map(list,zip(*td)))\n",
    "    \n",
    "    ###\n",
    "    \n",
    "    multiple_index = []  \n",
    " \n",
    "    for i in range(len(date)):\n",
    "      \n",
    "        multiple_index.append(code)\n",
    "    \n",
    "    \n",
    "    \n",
    "    ####\n",
    "    df = pd.DataFrame(td2,columns = col,index = [multiple_index, date])\n",
    "    \n",
    "    ###일단 어떤게 필요할지 몰라 다 들고왔지만 5개년, 즉 5행까지만 쓰는 걸로 잠정적 결론.\n",
    "    df.drop(df.index[5:], inplace=True)\n",
    "    time.sleep(1)\n",
    "    \n",
    "    \n",
    "    return df"
   ]
  },
  {
   "cell_type": "code",
   "execution_count": null,
   "metadata": {},
   "outputs": [],
   "source": [
    "df_first_row = stock_crawler('005930')"
   ]
  },
  {
   "cell_type": "code",
   "execution_count": null,
   "metadata": {},
   "outputs": [],
   "source": [
    "df_first_row"
   ]
  },
  {
   "cell_type": "markdown",
   "metadata": {},
   "source": [
    "# for 문으로 모든 기업 크롤링 진행\n"
   ]
  },
  {
   "cell_type": "code",
   "execution_count": null,
   "metadata": {
    "lines_to_next_cell": 2
   },
   "outputs": [],
   "source": [
    "for i in company_list :\n",
    "    df_new = stock_crawler(i)\n",
    "    df_first_row = pd.concat([df_first_row, df_new])\n",
    "    \n",
    "    \n",
    "    \n",
    "    ##\n",
    "    if i == company_list[5] :\n",
    "        df_first_row.to_excel('tobinq.xlsx')\n",
    "        time.sleep(3)\n",
    "        \n",
    "    \n",
    "    ##"
   ]
  },
  {
   "cell_type": "code",
   "execution_count": null,
   "metadata": {},
   "outputs": [],
   "source": [
    "#엑셀로 변환\n",
    "df_all = df_first_row\n",
    "df_all.to_excel('tobinq.xlsx')"
   ]
  },
  {
   "cell_type": "markdown",
   "metadata": {},
   "source": [
    "# 상의할 점\n",
    "\n",
    "1. 기업들을 어떤 표준에 의거해서 산업 별로 분류할지? \n",
    "2. 캡스톤 디자인 예산 신청해서 그 돈으로 선형회귀 관련 책을 구매하는 건 가능할지?"
   ]
  },
  {
   "cell_type": "code",
   "execution_count": null,
   "metadata": {},
   "outputs": [],
   "source": []
  }
 ],
 "metadata": {
  "jupytext": {
   "encoding": "# -*- coding: utf-8 -*-",
   "formats": "ipynb,py:light",
   "text_representation": {
    "extension": ".py",
    "format_name": "light",
    "format_version": "1.5",
    "jupytext_version": "1.11.1"
   }
  },
  "kernelspec": {
   "display_name": "Python 3",
   "language": "python",
   "name": "python3"
  },
  "language_info": {
   "codemirror_mode": {
    "name": "ipython",
    "version": 3
   },
   "file_extension": ".py",
   "mimetype": "text/x-python",
   "name": "python",
   "nbconvert_exporter": "python",
   "pygments_lexer": "ipython3",
   "version": "3.8.5"
  }
 },
 "nbformat": 4,
 "nbformat_minor": 4
}
