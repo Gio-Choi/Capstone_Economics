{
 "cells": [
  {
   "cell_type": "code",
   "execution_count": 1,
   "metadata": {},
   "outputs": [],
   "source": [
    "import pandas as pd"
   ]
  },
  {
   "cell_type": "code",
   "execution_count": null,
   "metadata": {},
   "outputs": [],
   "source": [
    "dataset = pd.read_csv(‘Guns.csv’, usecols = [‘state’, ‘year’, ‘income’, ‘violent’],\\\n",
    " index_col = [‘state’, ‘year’])\n",
    "years = dataset.index.get_level_values(‘year’).to_list()\n",
    "dataset[‘year’] = pd.Categorical(years)"
   ]
  },
  {
   "cell_type": "markdown",
   "metadata": {},
   "source": [
    "## Perform PooledOLS"
   ]
  },
  {
   "cell_type": "code",
   "execution_count": null,
   "metadata": {},
   "outputs": [],
   "source": [
    "from linearmodels import PooledOLS\n",
    "import statsmodels.api as sm\n",
    "exog = sm.tools.tools.add_constant(dataset['income'])\n",
    "endog = dataset['violent']\n",
    "mod = PooledOLS(endog, exog)\n",
    "pooledOLS_res = mod.fit(cov_type='clustered', cluster_entity=True)\n",
    "# Store values for checking homoskedasticity graphically\n",
    "fittedvals_pooled_OLS = pooledOLS_res.predict().fitted_values\n",
    "residuals_pooled_OLS = pooledOLS_res.resids"
   ]
  },
  {
   "cell_type": "markdown",
   "metadata": {},
   "source": [
    "### 3A. Homoskedasticity(동분산성)"
   ]
  },
  {
   "cell_type": "code",
   "execution_count": null,
   "metadata": {},
   "outputs": [],
   "source": [
    "import matplotlib.pyplot as plt"
   ]
  },
  {
   "cell_type": "markdown",
   "metadata": {},
   "source": [
    "#### 3A.1 Residuals-Plot for growing Variance Detection"
   ]
  },
  {
   "cell_type": "code",
   "execution_count": null,
   "metadata": {},
   "outputs": [],
   "source": [
    "fig, ax = plt.subplots()\n",
    "ax.scatter(fittedvals_pooled_OLS, residuals_pooled_OLS, color = ‘blue’)\n",
    "ax.axhline(0, color = 'r', ls = '--')\n",
    "ax.set_xlabel(‘Predicted Values’, fontsize = 15)\n",
    "ax.set_ylabel(‘Residuals’, fontsize = 15)\n",
    "ax.set_title(‘Homoskedasticity Test’, fontsize = 30)\n",
    "plt.show()"
   ]
  },
  {
   "cell_type": "markdown",
   "metadata": {},
   "source": [
    "#### 3A.2 White-Test"
   ]
  },
  {
   "cell_type": "code",
   "execution_count": null,
   "metadata": {},
   "outputs": [],
   "source": [
    "from statsmodels.stats.diagnostic import het_white, het_breuschpagan\n",
    "pooled_OLS_dataset = pd.concat([dataset, residuals_pooled_OLS], axis=1)\n",
    "pooled_OLS_dataset = pooled_OLS_dataset.drop([‘year’], axis = 1).fillna(0)\n",
    "exog = sm.tools.tools.add_constant(dataset['income']).fillna(0)\n",
    "white_test_results = het_white(pooled_OLS_dataset[‘residual’], exog)\n",
    "labels = [‘LM-Stat’, ‘LM p-val’, ‘F-Stat’, ‘F p-val’] \n",
    "print(dict(zip(labels, white_test_results)))"
   ]
  },
  {
   "cell_type": "markdown",
   "metadata": {},
   "source": [
    "#### 3A.3 Breusch-Pagan-Test"
   ]
  },
  {
   "cell_type": "code",
   "execution_count": null,
   "metadata": {},
   "outputs": [],
   "source": [
    "breusch_pagan_test_results = het_breuschpagan(pooled_OLS_dataset[‘residual’], exog)\n",
    "labels = [‘LM-Stat’, ‘LM p-val’, ‘F-Stat’, ‘F p-val’] \n",
    "print(dict(zip(labels, breusch_pagan_test_results)))"
   ]
  },
  {
   "cell_type": "markdown",
   "metadata": {},
   "source": [
    "### 3.B Non-Autocorrelation\n",
    "### Durbin-Watson-Test"
   ]
  },
  {
   "cell_type": "code",
   "execution_count": null,
   "metadata": {},
   "outputs": [],
   "source": [
    "from statsmodels.stats.stattools import durbin_watson\n",
    "\n",
    "durbin_watson_test_results = durbin_watson(pooled_OLS_dataset[‘residual’]) \n",
    "print(durbin_watson_test_results)"
   ]
  },
  {
   "cell_type": "markdown",
   "metadata": {},
   "source": [
    "## FE und RE model"
   ]
  },
  {
   "cell_type": "code",
   "execution_count": null,
   "metadata": {},
   "outputs": [],
   "source": [
    "from linearmodels import PanelOLS\n",
    "from linearmodels import RandomEffects\n",
    "exog = sm.tools.tools.add_constant(dataset['income'])\n",
    "endog = dataset[‘violent’]"
   ]
  },
  {
   "cell_type": "markdown",
   "metadata": {},
   "source": [
    "### random effects model"
   ]
  },
  {
   "cell_type": "code",
   "execution_count": null,
   "metadata": {},
   "outputs": [],
   "source": [
    "model_re = RandomEffects(endog, exog) \n",
    "re_res = model_re.fit() \n",
    "print(re_res)"
   ]
  },
  {
   "cell_type": "markdown",
   "metadata": {},
   "source": [
    "### fixed effects model"
   ]
  },
  {
   "cell_type": "code",
   "execution_count": null,
   "metadata": {},
   "outputs": [],
   "source": [
    "model_fe = PanelOLS(endog, exog, entity_effects = True) \n",
    "fe_res = model_fe.fit() \n",
    "print(fe_res)"
   ]
  }
 ],
 "metadata": {
  "kernelspec": {
   "display_name": "Python 3",
   "language": "python",
   "name": "python3"
  },
  "language_info": {
   "codemirror_mode": {
    "name": "ipython",
    "version": 3
   },
   "file_extension": ".py",
   "mimetype": "text/x-python",
   "name": "python",
   "nbconvert_exporter": "python",
   "pygments_lexer": "ipython3",
   "version": "3.8.5"
  }
 },
 "nbformat": 4,
 "nbformat_minor": 4
}
