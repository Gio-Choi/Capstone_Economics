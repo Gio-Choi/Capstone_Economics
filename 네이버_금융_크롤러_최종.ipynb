{
 "cells": [
  {
   "cell_type": "markdown",
   "metadata": {},
   "source": [
    "# 네이버 금융 재무제표 크롤러\n",
    "\n",
    "종목코드를 리스트로 넣으면 재무제표를 데이터프레임으로 받아오고, 엑셀로 만들어준다."
   ]
  },
  {
   "cell_type": "code",
   "execution_count": 1,
   "metadata": {},
   "outputs": [],
   "source": [
    "import requests\n",
    "import numpy as np\n",
    "import pandas as pd\n",
    "from bs4 import BeautifulSoup"
   ]
  },
  {
   "cell_type": "code",
   "execution_count": 60,
   "metadata": {},
   "outputs": [],
   "source": [
    "codes = ['002840', '107590', '134380', '003650', '084990', '052260', '003610', '001340', '014580', '035150', '002410', '007210', '002760', '003850', '032350',\n",
    " '000400', '023530', '004990', '005300', '011170', '002270', '071840', '038060', '058470', '014470', '027740', '001080', '005990', '072870', '086900', '078160',\n",
    " '138040', '008560', '000060', '017180', '012690', '005360', '080160', '009680', '009580', '009200', '033920', '008420', '025560', '007120', '000020', '000150',\n",
    " '082740', '042670', '034020', '024090', '003160', '092200', '090710', '013570', '026890', '115390']"
   ]
  },
  {
   "cell_type": "code",
   "execution_count": null,
   "metadata": {},
   "outputs": [],
   "source": [
    "URL = \"https://finance.naver.com/item/main.nhn?code=001040\" \n",
    "\n",
    "samsung_electronic = requests.get(URL)\n",
    "html = samsung_electronic.text\n",
    "soup = BeautifulSoup(html, 'html.parser')\n",
    "finance_html = soup.select('div.section.cop_analysis div.sub_section')[0]\n",
    "th_data = [item.get_text().strip() for item in finance_html.select('thead th')]\n",
    "annual_date = th_data[3:7]   \n",
    "finance_index = ['001040'] \n",
    "finance_data = [item.get_text().strip() for item in finance_html.select('td')]\n",
    "finance_data = np.array(finance_data)\n",
    "finance_data.resize(len(finance_index), 4)\n",
    "finance_date = annual_date\n",
    "df1 = pd.DataFrame(data=finance_data[0:,0:], index=finance_index, columns=finance_date)"
   ]
  },
  {
   "cell_type": "code",
   "execution_count": null,
   "metadata": {},
   "outputs": [],
   "source": [
    "df1"
   ]
  },
  {
   "cell_type": "code",
   "execution_count": 47,
   "metadata": {},
   "outputs": [
    {
     "data": {
      "text/html": [
       "<div>\n",
       "<style scoped>\n",
       "    .dataframe tbody tr th:only-of-type {\n",
       "        vertical-align: middle;\n",
       "    }\n",
       "\n",
       "    .dataframe tbody tr th {\n",
       "        vertical-align: top;\n",
       "    }\n",
       "\n",
       "    .dataframe thead th {\n",
       "        text-align: right;\n",
       "    }\n",
       "</style>\n",
       "<table border=\"1\" class=\"dataframe\">\n",
       "  <thead>\n",
       "    <tr style=\"text-align: right;\">\n",
       "      <th></th>\n",
       "      <th>2018.12</th>\n",
       "      <th>2019.12</th>\n",
       "      <th>2020.12</th>\n",
       "      <th>2021.12(E)</th>\n",
       "    </tr>\n",
       "  </thead>\n",
       "  <tbody>\n",
       "    <tr>\n",
       "      <th>007120</th>\n",
       "      <td>64</td>\n",
       "      <td>75</td>\n",
       "      <td>58</td>\n",
       "      <td></td>\n",
       "    </tr>\n",
       "  </tbody>\n",
       "</table>\n",
       "</div>"
      ],
      "text/plain": [
       "       2018.12 2019.12 2020.12 2021.12(E)\n",
       "007120      64      75      58           "
      ]
     },
     "execution_count": 47,
     "metadata": {},
     "output_type": "execute_result"
    }
   ],
   "source": []
  },
  {
   "cell_type": "code",
   "execution_count": 61,
   "metadata": {},
   "outputs": [],
   "source": [
    "#빈 데이터 프레임 하나 만들고 for문으로 하나씩 행추가하기 !!\n",
    "## 위에꺼 따라 일단 첫번째 code는 for문에서 빼서 데이터프레임 하나 만든 후에(전역변수로), concat()함수로 하나씩 채워나가자 !\n",
    "for code in codes :\n",
    "    \n",
    "    if code == '002840':\n",
    "        URL = \"https://finance.naver.com/item/main.nhn?code=007120\"\n",
    "    \n",
    "        samsung_electronic = requests.get(URL)\n",
    "        html = samsung_electronic.text        \n",
    "        soup = BeautifulSoup(html, 'html.parser')\n",
    "        finance_html = soup.select('div.section.cop_analysis div.sub_section')[0]\n",
    "        th_data = [item.get_text().strip() for item in finance_html.select('thead th')]\n",
    "        annual_date = th_data[3:7]   \n",
    "        finance_index = ['007120'] \n",
    "        finance_data = [item.get_text().strip() for item in finance_html.select('td')]\n",
    "        finance_data = np.array(finance_data)\n",
    "        finance_data.resize(len(finance_index), 4)\n",
    "        finance_date = annual_date\n",
    "        df1 = pd.DataFrame(data=finance_data[0:,0:], index=finance_index, columns=finance_date)\n",
    "\n",
    "        URL = \"https://finance.naver.com/item/main.nhn?code=\" + code\n",
    "    \n",
    "        samsung_electronic = requests.get(URL)\n",
    "        html = samsung_electronic.text        \n",
    "        soup = BeautifulSoup(html, 'html.parser')\n",
    "        finance_html = soup.select('div.section.cop_analysis div.sub_section')[0]\n",
    "        th_data = [item.get_text().strip() for item in finance_html.select('thead th')]\n",
    "        annual_date = th_data[3:7]   \n",
    "        finance_index = [code] \n",
    "        finance_data = [item.get_text().strip() for item in finance_html.select('td')]\n",
    "        finance_data = np.array(finance_data)\n",
    "        finance_data.resize(len(finance_index), 4)\n",
    "        finance_date = annual_date\n",
    "        df2 = pd.DataFrame(data=finance_data[0:,0:], index=finance_index, columns=finance_date)\n",
    "    \n",
    "        df1 = pd.concat([df1,df2])\n",
    "    \n",
    "    \n",
    "    else :\n",
    "        URL = \"https://finance.naver.com/item/main.nhn?code=\" + code\n",
    "    \n",
    "        samsung_electronic = requests.get(URL)\n",
    "        html = samsung_electronic.text        \n",
    "        soup = BeautifulSoup(html, 'html.parser')\n",
    "        finance_html = soup.select('div.section.cop_analysis div.sub_section')[0]\n",
    "        th_data = [item.get_text().strip() for item in finance_html.select('thead th')]\n",
    "        annual_date = th_data[3:7]   \n",
    "        finance_index = [code] \n",
    "        finance_data = [item.get_text().strip() for item in finance_html.select('td')]\n",
    "        finance_data = np.array(finance_data)\n",
    "        finance_data.resize(len(finance_index), 4)\n",
    "        finance_date = annual_date\n",
    "        df2 = pd.DataFrame(data=finance_data[0:,0:], index=finance_index, columns=finance_date)\n",
    "    \n",
    "        df1 = pd.concat([df1,df2])\n",
    "    \n",
    "        df1.to_excel('test.xlsx')\n",
    "        \n",
    "\n"
   ]
  },
  {
   "cell_type": "markdown",
   "metadata": {},
   "source": [
    "## End"
   ]
  },
  {
   "cell_type": "code",
   "execution_count": null,
   "metadata": {},
   "outputs": [],
   "source": [
    "    th_data = [item.get_text().strip() for item in finance_html.select('thead th')]\n",
    "     annual_date = th_data[3:7]\n",
    "#quarter_date = th_data[7:13]\n",
    "\n",
    "    annual_date"
   ]
  },
  {
   "cell_type": "code",
   "execution_count": null,
   "metadata": {},
   "outputs": [],
   "source": [
    "    finance_index = [item.get_text().strip() for item in finance_html.select('th.h_th2')][3:4] \n",
    "\n",
    "##여기다가 매출액말고 회사명을 넣으면 쫘악 정리가 될 듯 !!!\n"
   ]
  },
  {
   "cell_type": "code",
   "execution_count": null,
   "metadata": {
    "lines_to_next_cell": 2
   },
   "outputs": [],
   "source": [
    "    finance_index\n",
    "\n",
    "    finance_data = [item.get_text().strip() for item in finance_html.select('td')]\n",
    "\n",
    "\n",
    "    finance_data = np.array(finance_data)\n",
    "    finance_data.resize(len(finance_index), 4)\n",
    "\n",
    "    finance_data\n",
    "\n",
    "    finance_date = annual_date \n",
    "    finance_date\n",
    "\n",
    "\n",
    "     \n",
    "\n",
    "    finance = pd.DataFrame(data=finance_data[0:,0:], index=finance_index, columns=finance_date)"
   ]
  },
  {
   "cell_type": "code",
   "execution_count": null,
   "metadata": {
    "lines_to_next_cell": 2
   },
   "outputs": [],
   "source": []
  },
  {
   "cell_type": "code",
   "execution_count": null,
   "metadata": {
    "lines_to_next_cell": 2
   },
   "outputs": [],
   "source": []
  },
  {
   "cell_type": "code",
   "execution_count": null,
   "metadata": {
    "lines_to_next_cell": 0
   },
   "outputs": [],
   "source": [
    "    finance.to_excel('test.xlsx')\n",
    "\n",
    "##   1) 따로 엑셀을 만든 후에 파일명에다가 회사명을 넣어도 좋을 듯 !! 2) 아니면 한번에 데이터프레임을 만들어서 합치는 것도 좋을 듯 !!  "
   ]
  },
  {
   "cell_type": "code",
   "execution_count": null,
   "metadata": {
    "lines_to_next_cell": 2
   },
   "outputs": [],
   "source": []
  }
 ],
 "metadata": {
  "jupytext": {
   "encoding": "# -*- coding: utf-8 -*-",
   "formats": "ipynb,py:light"
  },
  "kernelspec": {
   "display_name": "Python 3",
   "language": "python",
   "name": "python3"
  },
  "language_info": {
   "codemirror_mode": {
    "name": "ipython",
    "version": 3
   },
   "file_extension": ".py",
   "mimetype": "text/x-python",
   "name": "python",
   "nbconvert_exporter": "python",
   "pygments_lexer": "ipython3",
   "version": "3.8.5"
  }
 },
 "nbformat": 4,
 "nbformat_minor": 4
}
