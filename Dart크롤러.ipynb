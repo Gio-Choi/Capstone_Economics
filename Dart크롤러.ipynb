{
 "cells": [
  {
   "cell_type": "code",
   "execution_count": 2,
   "metadata": {},
   "outputs": [
    {
     "data": {
      "application/vnd.jupyter.widget-view+json": {
       "model_id": "fd93a0323c6642dfb23bbb32865225ab",
       "version_major": 2,
       "version_minor": 0
      },
      "text/plain": [
       "Output()"
      ]
     },
     "metadata": {},
     "output_type": "display_data"
    },
    {
     "data": {
      "application/vnd.jupyter.widget-view+json": {
       "model_id": "610082cc5de1458d8a1029b409c35855",
       "version_major": 2,
       "version_minor": 0
      },
      "text/plain": [
       "Output()"
      ]
     },
     "metadata": {},
     "output_type": "display_data"
    },
    {
     "data": {
      "application/vnd.jupyter.widget-view+json": {
       "model_id": "9b4ce5ecd7fb4d44994e4f58a317d24f",
       "version_major": 2,
       "version_minor": 0
      },
      "text/plain": [
       "Output()"
      ]
     },
     "metadata": {},
     "output_type": "display_data"
    }
   ],
   "source": [
    "import dart_fss as dart\n",
    "\n",
    "# Open DART API KEY 설정\n",
    "api_key='d049a2073830ffac431244879682c6e1acd025ec'\n",
    "dart.set_api_key(api_key=api_key)\n",
    "\n",
    "# DART 에 공시된 회사 리스트 불러오기\n",
    "corp_list = dart.get_corp_list()\n",
    "\n",
    "\n"
   ]
  },
  {
   "cell_type": "code",
   "execution_count": 3,
   "metadata": {},
   "outputs": [
    {
     "ename": "TypeError",
     "evalue": "find_by_corp_name() got an unexpected keyword argument 'corp_code'",
     "output_type": "error",
     "traceback": [
      "\u001b[1;31m---------------------------------------------------------------------------\u001b[0m",
      "\u001b[1;31mTypeError\u001b[0m                                 Traceback (most recent call last)",
      "\u001b[1;32m<ipython-input-3-c42d5a3eebd5>\u001b[0m in \u001b[0;36m<module>\u001b[1;34m\u001b[0m\n\u001b[0;32m      3\u001b[0m \u001b[1;33m\u001b[0m\u001b[0m\n\u001b[0;32m      4\u001b[0m \u001b[1;31m# 삼성전자\u001b[0m\u001b[1;33m\u001b[0m\u001b[1;33m\u001b[0m\u001b[1;33m\u001b[0m\u001b[0m\n\u001b[1;32m----> 5\u001b[1;33m \u001b[0msamsung\u001b[0m \u001b[1;33m=\u001b[0m \u001b[0mcorp_list\u001b[0m\u001b[1;33m.\u001b[0m\u001b[0mfind_by_corp_name\u001b[0m\u001b[1;33m(\u001b[0m\u001b[0mcorp_code\u001b[0m\u001b[1;33m=\u001b[0m\u001b[0mcorp_code\u001b[0m\u001b[1;33m)\u001b[0m\u001b[1;33m\u001b[0m\u001b[1;33m\u001b[0m\u001b[0m\n\u001b[0m\u001b[0;32m      6\u001b[0m \u001b[1;33m\u001b[0m\u001b[0m\n\u001b[0;32m      7\u001b[0m \u001b[1;31m# 2012년 01월 01일 부터 연결재무제표 검색\u001b[0m\u001b[1;33m\u001b[0m\u001b[1;33m\u001b[0m\u001b[1;33m\u001b[0m\u001b[0m\n",
      "\u001b[1;31mTypeError\u001b[0m: find_by_corp_name() got an unexpected keyword argument 'corp_code'"
     ]
    }
   ],
   "source": [
    "# 삼성전자 code\n",
    "corp_code = '00126380'\n",
    "\n",
    "# 삼성전자\n",
    "samsung = corp_list.find_by_corp_name(corp_code=corp_code)\n",
    "\n",
    "# 2012년 01월 01일 부터 연결재무제표 검색\n",
    "# fs = samsung.extract_fs(bgn_de='20120101') 와 동일\n",
    "fs = dart.fs.extract(corp_code=corp_code, bgn_de='20190101')\n",
    "\n",
    "# 연결재무상태표\n",
    "df_fs = fs['bs'] # 또는 df = fs[0] 또는 df = fs.show('bs')\n",
    "# 연결재무상태표 추출에 사용된 Label 정보\n",
    "labels_fs = fs.labels['bs']\n",
    "\n",
    "# 연결손익계산서\n",
    "df_is = fs['is'] # 또는 df = fs[1] 또는 df = fs.show('is')\n",
    "# 연결손익계산서 추출에 사용된 Label 정보\n",
    "labels_is = fs.labels['is']\n",
    "\n",
    "# 연결포괄손익계산서\n",
    "df_ci = fs['cis'] # 또는 df = fs[2] 또는 df = fs.show('cis')\n",
    "# 연결포괄손익계산서 추출에 사용된 Label 정보\n",
    "labels_ci = fs.labels['cis']\n",
    "\n",
    "# 현금흐름표\n",
    "df_cf = fs['cf'] # 또는 df = fs[3] 또는 df = fs.show('cf')\n",
    "# 현금흐름표 추출에 사용된 Label 정보\n",
    "labels_cf = fs.labels['cf']\n",
    "\n",
    "# 재무제표 일괄저장 (default: 실행폴더/fsdata/{corp_code}_{report_tp}.xlsx)\n",
    "fs.save()"
   ]
  },
  {
   "cell_type": "code",
   "execution_count": null,
   "metadata": {},
   "outputs": [],
   "source": []
  }
 ],
 "metadata": {
  "kernelspec": {
   "display_name": "Python 3",
   "language": "python",
   "name": "python3"
  }
 },
 "nbformat": 4,
 "nbformat_minor": 4
}
